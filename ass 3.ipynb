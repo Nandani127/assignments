{
 "cells": [
  {
   "cell_type": "code",
   "execution_count": 1,
   "metadata": {},
   "outputs": [
    {
     "name": "stdout",
     "output_type": "stream",
     "text": [
      "2\n"
     ]
    }
   ],
   "source": [
    "\"\"\"\n",
    "Write a Python program to count the number of strings where the string length is 2 or more \n",
    "and the first and last character are same from a given list of strings.\n",
    "\"\"\"\n",
    "list = ['abc' , 'xyz' , 'aba' , '1221' ]\n",
    "count = 0\n",
    "for i in list :\n",
    "    if len(i) >= 2 :\n",
    "        if i[0] == i[-1] :\n",
    "            count += 1\n",
    "print(count)"
   ]
  }
 ],
 "metadata": {
  "kernelspec": {
   "display_name": "Python 3",
   "language": "python",
   "name": "python3"
  },
  "language_info": {
   "codemirror_mode": {
    "name": "ipython",
    "version": 3
   },
   "file_extension": ".py",
   "mimetype": "text/x-python",
   "name": "python",
   "nbconvert_exporter": "python",
   "pygments_lexer": "ipython3",
   "version": "3.8.3"
  }
 },
 "nbformat": 4,
 "nbformat_minor": 4
}
